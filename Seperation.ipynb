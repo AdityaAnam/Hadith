{
 "cells": [
  {
   "cell_type": "code",
   "execution_count": 23,
   "metadata": {
    "scrolled": true
   },
   "outputs": [
    {
     "name": "stdout",
     "output_type": "stream",
     "text": [
      "c:/Users/Aditya Pratap Singh/Desktop/Hadith/All Hadith Books\n",
      "FILES:\n",
      "Maliks Muwatta Without_Tashkel.csv\n",
      "c:/Users/Aditya Pratap Singh/Desktop/Hadith/All Hadith Books\\Maliks Muwatta Without_Tashkel.csv\n",
      "-----------------------\n",
      "Maliks Muwatta.csv\n",
      "c:/Users/Aditya Pratap Singh/Desktop/Hadith/All Hadith Books\\Maliks Muwatta.csv\n",
      "-----------------------\n",
      "Musnad Ahmad ibn Hanbal Without_Tashkel.csv\n",
      "c:/Users/Aditya Pratap Singh/Desktop/Hadith/All Hadith Books\\Musnad Ahmad ibn Hanbal Without_Tashkel.csv\n",
      "-----------------------\n",
      "Musnad Ahmad ibn Hanbal.csv\n",
      "c:/Users/Aditya Pratap Singh/Desktop/Hadith/All Hadith Books\\Musnad Ahmad ibn Hanbal.csv\n",
      "-----------------------\n",
      "Sahih Bukhari Without_Tashkel.csv\n",
      "c:/Users/Aditya Pratap Singh/Desktop/Hadith/All Hadith Books\\Sahih Bukhari Without_Tashkel.csv\n",
      "-----------------------\n",
      "Sahih Bukhari.csv\n",
      "c:/Users/Aditya Pratap Singh/Desktop/Hadith/All Hadith Books\\Sahih Bukhari.csv\n",
      "-----------------------\n",
      "Sahih Muslim.csv\n",
      "c:/Users/Aditya Pratap Singh/Desktop/Hadith/All Hadith Books\\Sahih Muslim.csv\n",
      "-----------------------\n",
      "Sahih Muslime Without_Tashkel.csv\n",
      "c:/Users/Aditya Pratap Singh/Desktop/Hadith/All Hadith Books\\Sahih Muslime Without_Tashkel.csv\n",
      "-----------------------\n",
      "Sahih_Buk.csv\n",
      "c:/Users/Aditya Pratap Singh/Desktop/Hadith/All Hadith Books\\Sahih_Buk.csv\n",
      "-----------------------\n",
      "Sunan Abu Dawud Without_Tashkel.csv\n",
      "c:/Users/Aditya Pratap Singh/Desktop/Hadith/All Hadith Books\\Sunan Abu Dawud Without_Tashkel.csv\n",
      "-----------------------\n",
      "Sunan Abu Dawud.csv\n",
      "c:/Users/Aditya Pratap Singh/Desktop/Hadith/All Hadith Books\\Sunan Abu Dawud.csv\n",
      "-----------------------\n",
      "Sunan al Darami Without_Tashkel.csv\n",
      "c:/Users/Aditya Pratap Singh/Desktop/Hadith/All Hadith Books\\Sunan al Darami Without_Tashkel.csv\n",
      "-----------------------\n",
      "Sunan al Darami.csv\n",
      "c:/Users/Aditya Pratap Singh/Desktop/Hadith/All Hadith Books\\Sunan al Darami.csv\n",
      "-----------------------\n",
      "Sunan al Tirmidhi Without_Tashkel.csv\n",
      "c:/Users/Aditya Pratap Singh/Desktop/Hadith/All Hadith Books\\Sunan al Tirmidhi Without_Tashkel.csv\n",
      "-----------------------\n",
      "Sunan al Tirmidhi.csv\n",
      "c:/Users/Aditya Pratap Singh/Desktop/Hadith/All Hadith Books\\Sunan al Tirmidhi.csv\n",
      "-----------------------\n",
      "Sunan al-Nasai Without_Tashkel.csv\n",
      "c:/Users/Aditya Pratap Singh/Desktop/Hadith/All Hadith Books\\Sunan al-Nasai Without_Tashkel.csv\n",
      "-----------------------\n",
      "Sunan al-Nasai.csv\n",
      "c:/Users/Aditya Pratap Singh/Desktop/Hadith/All Hadith Books\\Sunan al-Nasai.csv\n",
      "-----------------------\n",
      "Sunan Ibn Maja Without_Tashkel.csv\n",
      "c:/Users/Aditya Pratap Singh/Desktop/Hadith/All Hadith Books\\Sunan Ibn Maja Without_Tashkel.csv\n",
      "-----------------------\n",
      "Sunan Ibn Maja.csv\n",
      "c:/Users/Aditya Pratap Singh/Desktop/Hadith/All Hadith Books\\Sunan Ibn Maja.csv\n",
      "-----------------------\n"
     ]
    }
   ],
   "source": [
    "import os\n",
    "#print(os.getcwd())\n",
    "#print(os.listdir())\n",
    "\n",
    "for root,dirs,files in os.walk(\"c:/Users/Aditya Pratap Singh/Desktop/Hadith/All Hadith Books\"):\n",
    "        print (root)\n",
    "        print(\"FILES:\")\n",
    "        for filename in files:\n",
    "            print (filename)\n",
    "            print(os.path.join(root, filename))\n",
    "            print ('-----------------------')\n",
    "            \n",
    "            \n",
    "    #for filename in filenames:\n",
    "        #print(os.path.join(dirname, filename))"
   ]
  },
  {
   "cell_type": "code",
   "execution_count": 10,
   "metadata": {},
   "outputs": [
    {
     "name": "stdout",
     "output_type": "stream",
     "text": [
      "Requirement already satisfied: Tashaphyne in c:\\users\\public\\anaconda\\lib\\site-packages (0.3.4.1)\n",
      "Requirement already satisfied: pyarabic in c:\\users\\public\\anaconda\\lib\\site-packages (from Tashaphyne) (0.6.14)\n",
      "Requirement already satisfied: six>=1.14.0 in c:\\users\\public\\anaconda\\lib\\site-packages (from pyarabic->Tashaphyne) (1.15.0)\n"
     ]
    }
   ],
   "source": [
    "import pandas as pd\n",
    "import numpy as np\n",
    "import re\n",
    "import os\n",
    "\n",
    "import pandas as pd\n",
    "import numpy as np\n",
    "import re\n",
    "from nltk.tokenize import word_tokenize\n",
    "from nltk.stem.isri import ISRIStemmer\n",
    "\n",
    "!pip install Tashaphyne\n",
    "import pyarabic.arabrepr\n",
    "from tashaphyne.stemming import ArabicLightStemmer\n",
    "\n",
    "import random\n",
    "from sklearn.model_selection import train_test_split"
   ]
  },
  {
   "cell_type": "code",
   "execution_count": 11,
   "metadata": {},
   "outputs": [],
   "source": [
    "stop_words =['من',\n",
    " 'في',\n",
    " 'على',\n",
    " 'و',\n",
    " 'فى',\n",
    " 'يا',\n",
    " 'عن',\n",
    " 'مع',\n",
    " 'ان',\n",
    " 'هو',\n",
    " 'علي',\n",
    " 'ما',\n",
    " 'اللي',\n",
    " 'كل',\n",
    " 'بعد',\n",
    " 'ده',\n",
    " 'اليوم',\n",
    " 'أن',\n",
    " 'يوم',\n",
    " 'انا',\n",
    " 'إلى',\n",
    " 'كان',\n",
    " 'ايه',\n",
    " 'اللى',\n",
    " 'الى',\n",
    " 'دي',\n",
    " 'بين',\n",
    " 'انت',\n",
    " 'أنا',\n",
    " 'حتى',\n",
    " 'لما',\n",
    " 'فيه',\n",
    " 'هذا',\n",
    " 'واحد',\n",
    " 'احنا',\n",
    " 'اي',\n",
    " 'كده',\n",
    " 'إن',\n",
    " 'او',\n",
    " 'أو',\n",
    " 'عليه',\n",
    " 'ف',\n",
    " 'دى',\n",
    " 'مين',\n",
    " 'الي',\n",
    " 'كانت',\n",
    " 'أمام',\n",
    " 'زي',\n",
    " 'يكون',\n",
    " 'خلال',\n",
    " 'ع',\n",
    " 'كنت',\n",
    " 'هي',\n",
    " 'فيها',\n",
    " 'عند',\n",
    " 'التي',\n",
    " 'الذي',\n",
    " 'قال',\n",
    " 'هذه',\n",
    " 'قد',\n",
    " 'انه',\n",
    " 'ريتويت',\n",
    " 'بعض',\n",
    " 'أول',\n",
    " 'ايه',\n",
    " 'الان',\n",
    " 'أي',\n",
    " 'منذ',\n",
    " 'عليها',\n",
    " 'له',\n",
    " 'ال',\n",
    " 'تم',\n",
    " 'ب',\n",
    " 'دة',\n",
    " 'عليك',\n",
    " 'اى',\n",
    " 'كلها',\n",
    " 'اللتى',\n",
    " 'هى',\n",
    " 'دا',\n",
    " 'انك',\n",
    " 'وهو',\n",
    " 'ومن',\n",
    " 'منك',\n",
    " 'نحن',\n",
    " 'زى',\n",
    " 'أنت',\n",
    " 'انهم',\n",
    " 'معانا',\n",
    " 'حتي',\n",
    " 'وانا',\n",
    " 'عنه',\n",
    " 'إلي',\n",
    " 'ونحن',\n",
    " 'وانت',\n",
    " 'منكم',\n",
    " 'وان',\n",
    " 'معاهم',\n",
    " 'معايا',\n",
    " 'وأنا',\n",
    " 'عنها',\n",
    " 'إنه',\n",
    " 'اني',\n",
    " 'معك',\n",
    " 'اننا',\n",
    " 'فيهم',\n",
    " 'د',\n",
    " 'انتا',\n",
    " 'عنك',\n",
    " 'وهى',\n",
    " 'معا',\n",
    " 'آن',\n",
    " 'انتي',\n",
    " 'وأنت',\n",
    " 'وإن',\n",
    " 'ومع',\n",
    " 'وعن',\n",
    " 'معاكم',\n",
    " 'معاكو',\n",
    " 'معاها',\n",
    " 'وعليه',\n",
    " 'وانتم',\n",
    " 'وانتي',\n",
    " '¿',\n",
    " '|']"
   ]
  },
  {
   "cell_type": "code",
   "execution_count": 12,
   "metadata": {},
   "outputs": [],
   "source": [
    "   \n",
    "def normalize(sentence):\n",
    "    '''\n",
    "    Input Arguments:\n",
    "        string of words\n",
    "    return:\n",
    "        string of words in standardize form\n",
    "    '''\n",
    "    sentence = re.sub(\"[إأآا]\", \"ا\", sentence)\n",
    "    sentence = re.sub(\"ى\", \"ي\", sentence)\n",
    "    sentence = re.sub(\"ؤ\", \"ء\", sentence)\n",
    "    sentence = re.sub(\"ئ\", \"ء\", sentence)\n",
    "    sentence = re.sub(\"ة\", \"ه\", sentence)\n",
    "    sentence = re.sub(\"گ\", \"ك\", sentence)\n",
    "    return sentence"
   ]
  },
  {
   "cell_type": "code",
   "execution_count": 13,
   "metadata": {},
   "outputs": [],
   "source": [
    "def removing_ar_stopwords(text):\n",
    "    \"\"\"\n",
    "        Removes Stop Words\n",
    "        \n",
    "    \"\"\"\n",
    "\n",
    "    original_words = []\n",
    "    words = word_tokenize(text) # works on one string not list\n",
    "    for word in words:\n",
    "        if word not in stop_words:\n",
    "            original_words.append(word)\n",
    "    filtered_sentence = \" \".join(original_words)\n",
    "    return filtered_sentence"
   ]
  },
  {
   "cell_type": "code",
   "execution_count": 14,
   "metadata": {},
   "outputs": [],
   "source": [
    "def clearReg(text):\n",
    "    \"\"\"\n",
    "        This function for getting the normal values of out of lemmatization function\n",
    "        that takse a string of dict as a \n",
    "        takes  : '{\"result\":[\"امر\",\"ب\",\"أخذ\",\"ما\",\"نهى\",\"ه\",\"انتهى\"]}'\n",
    "        return : ['امر أخذ ما نهى انتهى']\n",
    "    \"\"\"\n",
    "    each_lemma_word = []\n",
    "    each_lemma_sentence = []\n",
    "    for hadith in text:\n",
    "        matches = re.findall(r'\\\"(.+?)\\\"',hadith)\n",
    "        for word in matches:\n",
    "            if len(word) >= 2 and word !='result':\n",
    "                each_lemma_word.append(word)\n",
    "        each_lemma_sentence.append(\" \".join(each_lemma_word))\n",
    "        each_lemma_word.clear()\n",
    "    return each_lemma_sentence"
   ]
  },
  {
   "cell_type": "code",
   "execution_count": 15,
   "metadata": {},
   "outputs": [],
   "source": [
    "def stemming_1(text):\n",
    "    \"\"\"\n",
    "        1st Stemming function - NLTK by ISRIStemmer.\n",
    "    \"\"\"\n",
    "    st = ISRIStemmer()\n",
    "    stemmend_words = []\n",
    "    words = word_tokenize(text)\n",
    "    for word in words:\n",
    "        stemmend_words.append(st.stem(word))\n",
    "    stemmed_sentence = \" \".join(stemmend_words)\n",
    "    return stemmed_sentence\n",
    "        \n",
    "    \n",
    "    \n",
    "def stemming_2(text):\n",
    "    \"\"\"\n",
    "        2nd Stemming Function with built in library called Tashaphyne.\n",
    "        The documentation ==> https://pypi.org/project/Tashaphyne/\n",
    "    \n",
    "    \"\"\"\n",
    "    import pyarabic.arabrepr\n",
    "    arepr = pyarabic.arabrepr.ArabicRepr()\n",
    "    repr = arepr.repr\n",
    "\n",
    "    from tashaphyne.stemming import ArabicLightStemmer\n",
    "    ArListem = ArabicLightStemmer()\n",
    "\n",
    "    hadiths_without_stop_words_and_with_normalization_and_with_stemming = []\n",
    "\n",
    "    for hadith in hadiths_without_stop_words_and_with_normalization:\n",
    "        words = word_tokenize(hadith)\n",
    "        new_list = []\n",
    "        for word in words:\n",
    "            stem = ArListem.light_stem(word)\n",
    "            stem = ArListem.get_stem()\n",
    "            new_list.append(stem)\n",
    "\n",
    "        hadith_sentence_with_stemming = \" \".join(new_list)\n",
    "        hadiths_without_stop_words_and_with_normalization_and_with_stemming.append(hadith_sentence_with_stemming)\n",
    "        \n",
    "    return hadiths_without_stop_words_and_with_normalization_and_with_stemming"
   ]
  },
  {
   "cell_type": "code",
   "execution_count": 16,
   "metadata": {},
   "outputs": [],
   "source": [
    "def lemmatization(text):\n",
    "    \"\"\"\n",
    "        1st Lemmatizing Function using Farasa API, and it should get best result of all the previous functions\n",
    "        return a string from the dictionary corpus '{\"result\":[\"امر\",\"ب\",\"أخذ\",\"ما\",\"نهى\",\"ه\",\"انتهى\"]}'\n",
    "    \"\"\"\n",
    "    import http.client\n",
    "    conn = http.client.HTTPSConnection(\"farasa-api.qcri.org\")\n",
    "    hadith_dict = {}\n",
    "    list_pyload_input = []\n",
    "    list_pyload_out = []\n",
    "    length = len(text)\n",
    "    for h in text[:length]:\n",
    "        q = '{\"text\":'+'\"{}\"'.format(h)+'}'\n",
    "        list_pyload_input.append(q)\n",
    "    headers = { 'content-type': \"application/json\", 'cache-control': \"no-cache\", }\n",
    "    for h in list_pyload_input:\n",
    "        conn.request(\"POST\", \"/msa/webapi/lemma\", h.encode('utf-8'), headers)\n",
    "        res = conn.getresponse()\n",
    "        data = res.read()\n",
    "        list_pyload_out.append(data.decode(\"utf-8\"))\n",
    "        final_result = clearReg(list_pyload_out)     # call clearReg for clean the text\n",
    "    return final_result"
   ]
  },
  {
   "cell_type": "markdown",
   "metadata": {},
   "source": [
    "1. Stemming : Algorithms work by cutting off the end or the beginning of the word, taking into account a list of common prefixes and suffixes that can be found in an inflected word. May or May not have a meaning.\n",
    "2. Lemmatization : Algorithm takes into consideration the morphological analysis of the words using a Word Corpus.\n",
    "Lemmatization is typically seen as much more informative than simple stemming, because lemmatized word always holds meaning.\n",
    "\n",
    "Used Functions:\n",
    "\n",
    "1.stemming_1 by ISRIStemmer from NLTK.\n",
    "\n",
    "2.stemming_2 by Tashaphyne is an Arabic light stemmer(removing prefixes and suffixes) and gives all possible segmentations.\n",
    "\n",
    "3.lemmatization by Farasa API\n",
    "\n",
    "Lemmatization by Farasa should give us consistently better results."
   ]
  },
  {
   "cell_type": "code",
   "execution_count": 17,
   "metadata": {},
   "outputs": [
    {
     "data": {
      "text/html": [
       "<div>\n",
       "<style scoped>\n",
       "    .dataframe tbody tr th:only-of-type {\n",
       "        vertical-align: middle;\n",
       "    }\n",
       "\n",
       "    .dataframe tbody tr th {\n",
       "        vertical-align: top;\n",
       "    }\n",
       "\n",
       "    .dataframe thead th {\n",
       "        text-align: right;\n",
       "    }\n",
       "</style>\n",
       "<table border=\"1\" class=\"dataframe\">\n",
       "  <thead>\n",
       "    <tr style=\"text-align: right;\">\n",
       "      <th></th>\n",
       "      <th>Sahih Bukhari Without_Tashkel</th>\n",
       "    </tr>\n",
       "  </thead>\n",
       "  <tbody>\n",
       "    <tr>\n",
       "      <th>0</th>\n",
       "      <td>حدثنا الحميدي عبد الله بن الزبير قال حدثنا سفي...</td>\n",
       "    </tr>\n",
       "    <tr>\n",
       "      <th>1</th>\n",
       "      <td>حدثنا عبد الله بن يوسف قال أخبرنا مالك عن هشام...</td>\n",
       "    </tr>\n",
       "    <tr>\n",
       "      <th>2</th>\n",
       "      <td>حدثنا يحيى بن بكير قال حدثنا الليث عن عقيل عن ...</td>\n",
       "    </tr>\n",
       "    <tr>\n",
       "      <th>3</th>\n",
       "      <td>حدثنا موسى بن إسماعيل قال حدثنا أبو عوانة قال ...</td>\n",
       "    </tr>\n",
       "    <tr>\n",
       "      <th>4</th>\n",
       "      <td>حدثنا عبدان قال أخبرنا عبد الله قال أخبرنا يون...</td>\n",
       "    </tr>\n",
       "  </tbody>\n",
       "</table>\n",
       "</div>"
      ],
      "text/plain": [
       "                       Sahih Bukhari Without_Tashkel\n",
       "0  حدثنا الحميدي عبد الله بن الزبير قال حدثنا سفي...\n",
       "1  حدثنا عبد الله بن يوسف قال أخبرنا مالك عن هشام...\n",
       "2  حدثنا يحيى بن بكير قال حدثنا الليث عن عقيل عن ...\n",
       "3  حدثنا موسى بن إسماعيل قال حدثنا أبو عوانة قال ...\n",
       "4  حدثنا عبدان قال أخبرنا عبد الله قال أخبرنا يون..."
      ]
     },
     "execution_count": 17,
     "metadata": {},
     "output_type": "execute_result"
    }
   ],
   "source": [
    "data_1 = pd.read_csv(os.path.join(root, 'Sahih_Buk.csv'))\n",
    "data_1.head()"
   ]
  },
  {
   "cell_type": "code",
   "execution_count": 18,
   "metadata": {},
   "outputs": [],
   "source": [
    "all_hadiths_1 = []\n",
    "\n",
    "for hadith in data_1['Sahih Bukhari Without_Tashkel']:\n",
    "    all_hadiths_1.append(hadith)\n"
   ]
  },
  {
   "cell_type": "code",
   "execution_count": 19,
   "metadata": {},
   "outputs": [
    {
     "name": "stdout",
     "output_type": "stream",
     "text": [
      "The size of data:\n"
     ]
    },
    {
     "data": {
      "text/plain": [
       "(99, 99, 99)"
      ]
     },
     "execution_count": 19,
     "metadata": {},
     "output_type": "execute_result"
    }
   ],
   "source": [
    "#%%time\n",
    "\n",
    "# Sahih_Bukhari\n",
    "cleared_Hadith_1 = []           # Removing stopwords\n",
    "cleared_Hadith_1_2 = []         # Normalization\n",
    "cleared_Hadith_1_2_3 = []       # Lematization\n",
    "\n",
    "for hadith in all_hadiths_1:\n",
    "    cleared_Hadith_1.append(removing_ar_stopwords(hadith))         # Removing stopwords\n",
    "for hadith in cleared_Hadith_1:\n",
    "    cleared_Hadith_1_2.append(normalize(hadith))                   # Normalization\n",
    "cleared_Hadith_1_2_3 = lemmatization(cleared_Hadith_1_2)           # Lematization\n",
    "\n",
    "print('The size of data:')\n",
    "len(cleared_Hadith_1), len(cleared_Hadith_1_2), len(cleared_Hadith_1_2_3)"
   ]
  },
  {
   "cell_type": "code",
   "execution_count": 20,
   "metadata": {},
   "outputs": [
    {
     "data": {
      "text/plain": [
       "['حدث حميدي عبد الله ابن زبير حدث سفيان حدث أحيى ابن سعيد انصاري اخبرني محمد ابن ابراهيم تيمي ان سمع علقم ابن قاص ليث قال سمع عمر ابن خطاب رضي الله منبر سمع رسول الله صلي الله سلم قال انما اعمال نية انما كل امرء نوي من هجرة دنيا أصاب امرا نكح هجرة هاجر الي']"
      ]
     },
     "execution_count": 20,
     "metadata": {},
     "output_type": "execute_result"
    }
   ],
   "source": [
    "cleared_Hadith_1_2_3[:1]"
   ]
  },
  {
   "cell_type": "code",
   "execution_count": 22,
   "metadata": {},
   "outputs": [],
   "source": [
    "Sahih_Buk_preprosessing_1 = pd.DataFrame(cleared_Hadith_1_2_3, columns=['Sahih_Buk_Preprosessing_Cleaned'])\n",
    "Sahih_Buk_preprosessing_1.head()\n",
    "path_dir='c:/Users/Aditya Pratap Singh/Desktop/Hadith/Preprocessed_Save'\n",
    "if not os.path.exists(path_dir):\n",
    "    os.mkdir(path_dir)\n",
    "\n",
    "Sahih_Buk_preprosessing_1.to_csv(os.path.join(path1,'Preprocessed_SABtrial.csv'), encoding='utf-8')"
   ]
  },
  {
   "cell_type": "code",
   "execution_count": 14,
   "metadata": {},
   "outputs": [
    {
     "name": "stdout",
     "output_type": "stream",
     "text": [
      "Requirement already satisfied: arabic-reshaper in c:\\users\\public\\anaconda\\lib\\site-packages (2.1.3)\n",
      "Requirement already satisfied: setuptools in c:\\users\\public\\anaconda\\lib\\site-packages (from arabic-reshaper) (52.0.0.post20210125)\n",
      "Requirement already satisfied: future in c:\\users\\public\\anaconda\\lib\\site-packages (from arabic-reshaper) (0.18.2)\n",
      "Requirement already satisfied: python-bidi in c:\\users\\public\\anaconda\\lib\\site-packages (0.4.2)\n",
      "Requirement already satisfied: six in c:\\users\\public\\anaconda\\lib\\site-packages (from python-bidi) (1.15.0)\n",
      "Requirement already satisfied: wordcloud in c:\\users\\public\\anaconda\\lib\\site-packages (1.8.1)\n",
      "Requirement already satisfied: matplotlib in c:\\users\\public\\anaconda\\lib\\site-packages (from wordcloud) (3.3.4)\n",
      "Requirement already satisfied: pillow in c:\\users\\public\\anaconda\\lib\\site-packages (from wordcloud) (8.2.0)\n",
      "Requirement already satisfied: numpy>=1.6.1 in c:\\users\\public\\anaconda\\lib\\site-packages (from wordcloud) (1.20.1)\n",
      "Requirement already satisfied: pyparsing!=2.0.4,!=2.1.2,!=2.1.6,>=2.0.3 in c:\\users\\public\\anaconda\\lib\\site-packages (from matplotlib->wordcloud) (2.4.7)\n",
      "Requirement already satisfied: cycler>=0.10 in c:\\users\\public\\anaconda\\lib\\site-packages (from matplotlib->wordcloud) (0.10.0)\n",
      "Requirement already satisfied: python-dateutil>=2.1 in c:\\users\\public\\anaconda\\lib\\site-packages (from matplotlib->wordcloud) (2.8.1)\n",
      "Requirement already satisfied: kiwisolver>=1.0.1 in c:\\users\\public\\anaconda\\lib\\site-packages (from matplotlib->wordcloud) (1.3.1)\n",
      "Requirement already satisfied: six in c:\\users\\public\\anaconda\\lib\\site-packages (from cycler>=0.10->matplotlib->wordcloud) (1.15.0)\n"
     ]
    },
    {
     "data": {
      "text/plain": [
       "<Figure size 576x576 with 0 Axes>"
      ]
     },
     "metadata": {},
     "output_type": "display_data"
    }
   ],
   "source": [
    "!pip install arabic-reshaper\n",
    "!pip install python-bidi\n",
    "!pip install wordcloud\n",
    "import pandas as pd\n",
    "import numpy as np\n",
    "import re\n",
    "import arabic_reshaper\n",
    "from bidi.algorithm import get_display\n",
    "import matplotlib.pyplot as plt\n",
    "import seaborn as sns\n",
    "import collections\n",
    "import pprint\n",
    "from wordcloud import WordCloud , ImageColorGenerator\n",
    "import arabic_reshaper\n",
    "from nltk.probability import FreqDist\n",
    "from bidi.algorithm import get_display\n",
    "from IPython.display import Image\n",
    "from PIL import Image \n",
    "plt.figure(figsize=(8,8));"
   ]
  },
  {
   "cell_type": "code",
   "execution_count": 15,
   "metadata": {},
   "outputs": [],
   "source": [
    "all_hadith = Sahih_Buk_preprosessing_1.values.tolist()"
   ]
  },
  {
   "cell_type": "code",
   "execution_count": 16,
   "metadata": {},
   "outputs": [
    {
     "name": "stdout",
     "output_type": "stream",
     "text": [
      "['حدث حميدي عبد الله ابن زبير حدث سفيان حدث أحيى ابن سعيد انصاري اخبرني محمد ابن ابراهيم تيمي ان سمع علقم ابن قاص ليث قال سمع عمر ابن خطاب رضي الله منبر سمع رسول الله صلي الله سلم قال انما اعمال نية انما كل امرء نوي من هجرة دنيا أصاب امرا نكح هجرة هاجر الي']\n"
     ]
    }
   ],
   "source": [
    "#print(all_hadith)\n",
    "#for i in range(2,5):\n",
    "print(all_hadith[0])\n",
    "\n",
    "   # print('-'*50)"
   ]
  },
  {
   "cell_type": "code",
   "execution_count": 17,
   "metadata": {},
   "outputs": [
    {
     "name": "stdout",
     "output_type": "stream",
     "text": [
      "['حدث حميدي عبد الله ابن زبير حدث سفيان حدث أحيى ابن سعيد انصاري اخبرني محمد ابن ابراهيم تيمي ان سمع علقم ابن قاص ليث قال سمع عمر ابن خطاب رضي الله منبر سمع رسول الله صلي الله سلم قال انما اعمال نية انما كل امرء نوي من هجرة دنيا أصاب امرا نكح هجرة هاجر الي']\n",
      "--------------------------------------------------\n",
      "['حدث عبد الله ابن يوسف اخبر مالك هشام ابن عرو ابيه عاءش ام مءمن رضي الله حارث ابن هشام رضي الله سال رسول الله صلي الله سلم قال رسول الله كيف ياتيك وحي قال رسول الله صلي الله سلم احيا ياتيني مثل صلصل جرس اشد فيفصم عن قد وعي احيا تمثل ملك رجل فيكلمني اعي قال قال عاءش رضي الله قد راية نزل وحي شديد برد فيفصم جبين يتفصد عرق']\n",
      "--------------------------------------------------\n",
      "['حدث أحيى ابن بكير حدث ليث عقيل ابن شهاب عرو ابن زبير عاءش ام مءمن انها قال بدء رسول الله صلي الله سلم وحي رءيا صالح نوم كان لا يري رءي الا جاء مثل فلق صبح ثم حبب الي خلاء كان خلا غار حراء فيتحنث تعبد ليلة ذوات عدد قبل نزع اهل يتزود ذلك ثم رجع خديج فيتزود مثل جاء حق غار حراء جاء ملك قال اقر قارء فاخذني فغطني بلغ من جهد ثم ارسلني قال اقر قال قارء فاخذني فغطني ثاني بلغ من جهد ثم ارسلني قال اقر قال قارء فاخذني فغطني ثالثه ثم ارسلني قال اقر اسم رب خلق خلق انسان علق اقر رب اكرم رجع رسول الله صلي الله سلم يرجف فءاد دخل خديج بنت خويلد رضي الله قال زملوني زملوني فزملوه ذهب روع قال خديج اخبر خبر قد خشي نفس قال خديج كلا الله يخزيك الله ابدا انك وصل رحم حمل كل أكسب معدوم تقري ضيف تعين نواءب حق انطلق خديج ات ورقة ابن نوفل ابن اسد ابن عبد عزي ابن عم خديج كان امرا نصر جاهلي كان كتب كتاب عبراني كتب انجيل عبرانيه شاء الله كتب كان شيخ كبير عم قال خديج ابن عم اسمع ابن اخي قال ورقة ابن اخي ماذا تري اخبر رسول الله صلي الله سلم خبر راي قال ورقة ناموس نزل الله موسي ليت جذع ليت اكون حي اذ يخرجك قوم قال رسول الله صلي الله سلم اومخرجي هم نعم لم يا رجل قط مثل جءت الا عود أدرك يوم انصرك نصر مءزر ثم لم نشب ورقة توفى فتر وحي ابن شهاب اخبرني ابو سلم ابن عبد رحمن جابر ابن عبد الله انصاري حدث فتر وحي قال حديث بين امشي اذ سمع صوت سماء رفع بصر اذ ملك جاء حراء جالس كرسي سماء ارض رعب من رجع قال زملوني زملوني انزل الله تعالى ايها مدثر قم انذر قول رجز اهجر فحمي وحي تابع تابع عبد الله ابن يوسف ابو صالح تابع هلال ابن رداد زهر قال يونس معمر بادرة']\n",
      "--------------------------------------------------\n",
      "['حدث موسي ابن اسماعيل حدث ابو عوان حدث موسي ابن ابي عاءش حدث سعيد ابن جبير ابن عباس قول تعالى لا تحرك لسان عجل رسول الله صلي الله سلم عالج تنزيل شد كان من حرك شفة قال ابن عباس فان احركهما كما رسول الله صلي الله سلم حرك قال سعيد احركهما كما رايت ابن عباس حرك حرك شفة انزل الله تعالى لا تحرك لسان عجل على جمع قران جمع صدر تقرا اذ قر اتبع قران استمع انصت ثم على بيان ثم على تقرا كان رسول الله صلي الله سلم ذلك اذ اتاه جبرئيل استمع اذ انطلق جبرئيل قرى نبي صلي الله سلم كما قرى']\n",
      "--------------------------------------------------\n",
      "['حدث عبد اخبر عبد الله اخبر يونس زهر حدث بشر ابن محمد اخبر عبد الله اخبر يونس معمر زهر نحو اخبرني عبيد الله ابن عبد الله ابن عباس رسول الله صلي الله سلم اجود ناس كان اجود رمضان حين لقي جبرئيل كان لقي ليل رمضان دارس قران رسول الله صلي الله سلم اجود خير ريح مرسل']\n",
      "--------------------------------------------------\n"
     ]
    }
   ],
   "source": [
    "for i in range(0,5):\n",
    "    print(all_hadith[i])\n",
    "    print('-'*50)"
   ]
  },
  {
   "cell_type": "code",
   "execution_count": 18,
   "metadata": {},
   "outputs": [
    {
     "name": "stdout",
     "output_type": "stream",
     "text": [
      "There are 1379 unique word.\n"
     ]
    }
   ],
   "source": [
    "all_hadith_split_words = []\n",
    "l=0\n",
    "for one_h in all_hadith:\n",
    "    each_h=''.join(one_h)\n",
    "    for each_w in each_h.split():\n",
    "        all_hadith_split_words.append(each_w)\n",
    "    each_h=''\n",
    "        \n",
    "temp = collections.Counter(all_hadith_split_words)\n",
    "collections_of_word = dict(sorted(temp.items(), key=lambda item: item[1], reverse= True))\n",
    "print(f'There are {len(collections_of_word)} unique word.')"
   ]
  },
  {
   "cell_type": "code",
   "execution_count": 21,
   "metadata": {},
   "outputs": [
    {
     "data": {
      "text/plain": [
       "[('الله', 457),\n",
       " ('ابن', 336),\n",
       " ('حدث', 226),\n",
       " ('قال', 203),\n",
       " ('سلم', 155),\n",
       " ('صلي', 152),\n",
       " ('عبد', 118),\n",
       " ('رسول', 111),\n",
       " ('لا', 89),\n",
       " ('ابي', 89)]"
      ]
     },
     "execution_count": 21,
     "metadata": {},
     "output_type": "execute_result"
    }
   ],
   "source": [
    "list(collections_of_word.items())[:10]"
   ]
  },
  {
   "cell_type": "code",
   "execution_count": 22,
   "metadata": {},
   "outputs": [],
   "source": [
    "splitting_words= ['عن' , 'حدثنا', 'سمعت']"
   ]
  },
  {
   "cell_type": "code",
   "execution_count": 23,
   "metadata": {},
   "outputs": [
    {
     "name": "stdout",
     "output_type": "stream",
     "text": [
      "1 0\n"
     ]
    },
    {
     "name": "stderr",
     "output_type": "stream",
     "text": [
      "C:\\Users\\Public\\Anaconda\\lib\\site-packages\\seaborn\\_decorators.py:36: FutureWarning: Pass the following variable as a keyword arg: x. From version 0.12, the only valid positional argument will be `data`, and passing other arguments without an explicit keyword will result in an error or misinterpretation.\n",
      "  warnings.warn(\n"
     ]
    },
    {
     "data": {
      "image/png": "[encoded data removed]",
      "text/plain": [
       "<Figure size 432x288 with 1 Axes>"
      ]
     },
     "metadata": {
      "needs_background": "light"
     },
     "output_type": "display_data"
    }
   ],
   "source": [
    "count = []\n",
    "wordcount = 0\n",
    "my_word=\"عن\"\n",
    "for i in range(len(all_hadith)):\n",
    "    wordcount = 0\n",
    "    for word in str(all_hadith[i]).split():\n",
    "        if(my_word == word):\n",
    "            wordcount +=1\n",
    "        count.append(wordcount)\n",
    "\n",
    "print(max(count), min(count))\n",
    "sns.countplot(count)\n",
    "Ar_title = get_display(arabic_reshaper.reshape('عدد تكرار كلمة \"عن\"'))\n",
    "plt.title(Ar_title);  "
   ]
  },
  {
   "cell_type": "code",
   "execution_count": 30,
   "metadata": {},
   "outputs": [
    {
     "name": "stdout",
     "output_type": "stream",
     "text": [
      "0 0\n"
     ]
    },
    {
     "name": "stderr",
     "output_type": "stream",
     "text": [
      "C:\\Users\\Public\\Anaconda\\lib\\site-packages\\seaborn\\_decorators.py:36: FutureWarning: Pass the following variable as a keyword arg: x. From version 0.12, the only valid positional argument will be `data`, and passing other arguments without an explicit keyword will result in an error or misinterpretation.\n",
      "  warnings.warn(\n"
     ]
    },
    {
     "data": {
      "image/png": "[encoded data removed]",
      "text/plain": [
       "<Figure size 432x288 with 1 Axes>"
      ]
     },
     "metadata": {
      "needs_background": "light"
     },
     "output_type": "display_data"
    }
   ],
   "source": [
    "count = []\n",
    "wordcount = 0\n",
    "my_word=\"حدثنا\"\n",
    "for i in range(len(all_hadith)):\n",
    "    wordcount = 0\n",
    "    for word in str(all_hadith[i]).split():\n",
    "        if(my_word == word):\n",
    "            wordcount +=1\n",
    "        count.append(wordcount)\n",
    "\n",
    "print(max(count), min(count))\n",
    "sns.countplot(count)\n",
    "Ar_title = get_display(arabic_reshaper.reshape('عدد تكرار كلمة \"حدثنا\"'))\n",
    "plt.title(Ar_title);"
   ]
  },
  {
   "cell_type": "code",
   "execution_count": 31,
   "metadata": {},
   "outputs": [
    {
     "name": "stdout",
     "output_type": "stream",
     "text": [
      "0 0\n"
     ]
    },
    {
     "name": "stderr",
     "output_type": "stream",
     "text": [
      "C:\\Users\\Public\\Anaconda\\lib\\site-packages\\seaborn\\_decorators.py:36: FutureWarning: Pass the following variable as a keyword arg: x. From version 0.12, the only valid positional argument will be `data`, and passing other arguments without an explicit keyword will result in an error or misinterpretation.\n",
      "  warnings.warn(\n"
     ]
    },
    {
     "data": {
      "image/png": "[encoded data removed]",
      "text/plain": [
       "<Figure size 432x288 with 1 Axes>"
      ]
     },
     "metadata": {
      "needs_background": "light"
     },
     "output_type": "display_data"
    }
   ],
   "source": [
    "count = []\n",
    "wordcount = 0\n",
    "my_word=\"سمعت\"\n",
    "for i in range(len(all_hadith)):\n",
    "    wordcount = 0\n",
    "    for word in str(all_hadith[i]).split():\n",
    "        if(my_word == word):\n",
    "            wordcount +=1\n",
    "        count.append(wordcount)\n",
    "\n",
    "print(max(count), min(count))\n",
    "sns.countplot(count)\n",
    "Ar_title = get_display(arabic_reshaper.reshape('عدد تكرار كلمة \"سمعت\"'))\n",
    "plt.title(Ar_title);\n"
   ]
  },
  {
   "cell_type": "code",
   "execution_count": 26,
   "metadata": {},
   "outputs": [
    {
     "data": {
      "text/plain": [
       "[{'Hadith_num': 0, 'An': 0, 'Hadathna': 0, 'Samaat': 0},\n",
       " {'Hadith_num': 1, 'An': 1, 'Hadathna': 0, 'Samaat': 0},\n",
       " {'Hadith_num': 2, 'An': 0, 'Hadathna': 0, 'Samaat': 0},\n",
       " {'Hadith_num': 3, 'An': 0, 'Hadathna': 0, 'Samaat': 0},\n",
       " {'Hadith_num': 4, 'An': 0, 'Hadathna': 0, 'Samaat': 0},\n",
       " {'Hadith_num': 5, 'An': 0, 'Hadathna': 0, 'Samaat': 0},\n",
       " {'Hadith_num': 6, 'An': 1, 'Hadathna': 0, 'Samaat': 0},\n",
       " {'Hadith_num': 7, 'An': 0, 'Hadathna': 0, 'Samaat': 0},\n",
       " {'Hadith_num': 8, 'An': 1, 'Hadathna': 0, 'Samaat': 0},\n",
       " {'Hadith_num': 9, 'An': 0, 'Hadathna': 0, 'Samaat': 0}]"
      ]
     },
     "execution_count": 26,
     "metadata": {},
     "output_type": "execute_result"
    }
   ],
   "source": [
    "count = []\n",
    "my_word_1=\"عن\"\n",
    "my_word_2=\"حدثنا\"\n",
    "my_word_3=\"سمعت\"\n",
    "for i in range(len(all_hadith)):\n",
    "    wordcount_1, wordcount_2, wordcount_3 = 0, 0 ,0, \n",
    "    for word in str(all_hadith[i]).split():\n",
    "        if(my_word_1 == word):\n",
    "            wordcount_1 +=1\n",
    "        elif(my_word_2 == word):\n",
    "            wordcount_2 +=1\n",
    "        elif(my_word_3 == word):\n",
    "            wordcount_3 +=1\n",
    "    count.append({\"Hadith_num\": i, \"An\": wordcount_1, \"Hadathna\": wordcount_2, \"Samaat\": wordcount_3}) \n",
    "count[:10] # ['عن , حدثنا , سمعنا']"
   ]
  },
  {
   "cell_type": "code",
   "execution_count": 27,
   "metadata": {},
   "outputs": [
    {
     "name": "stdout",
     "output_type": "stream",
     "text": [
      "قال رسول الله صلي الله عليه وسلم ، قال النبي صلى الله عليه وسلم\n",
      "قال رسول الله صلى الله عليه وسلم ، قال النبى صلى الله عليه وسلم\n"
     ]
    }
   ],
   "source": [
    "def normalize(sentence):\n",
    "    \"\"\"\n",
    "        replace all  صلي or النبي with صلى or النبى\n",
    "    \"\"\"\n",
    "    sentence = re.sub(\"صلي\", \"صلى\", sentence)\n",
    "    sentence = re.sub(\"النبي\", \"النبى\", sentence)\n",
    "    return sentence\n",
    "\n",
    "test_st = \"قال رسول الله صلي الله عليه وسلم ، قال النبي صلى الله عليه وسلم\"\n",
    "print(test_st)\n",
    "print(normalize(test_st))"
   ]
  },
  {
   "cell_type": "code",
   "execution_count": 28,
   "metadata": {},
   "outputs": [],
   "source": [
    "all_hadith_with_normalization = []\n",
    "for hadith in str(all_hadith[i]):\n",
    "    all_hadith_with_normalization.append(normalize(hadith)) "
   ]
  },
  {
   "cell_type": "code",
   "execution_count": 29,
   "metadata": {
    "scrolled": true
   },
   "outputs": [
    {
     "name": "stdout",
     "output_type": "stream",
     "text": [
      "\t***The Same Length Here***\t\n"
     ]
    },
    {
     "ename": "KeyError",
     "evalue": "'صلى'",
     "output_type": "error",
     "traceback": [
      "\u001b[1;31m---------------------------------------------------------------------------\u001b[0m",
      "\u001b[1;31mKeyError\u001b[0m                                  Traceback (most recent call last)",
      "\u001b[1;32m<ipython-input-29-a26964e3c7aa>\u001b[0m in \u001b[0;36m<module>\u001b[1;34m\u001b[0m\n\u001b[0;32m      8\u001b[0m \u001b[1;33m\u001b[0m\u001b[0m\n\u001b[0;32m      9\u001b[0m \u001b[0mprint\u001b[0m\u001b[1;33m(\u001b[0m\u001b[1;34m\"\\t***The Same Length Here***\\t\"\u001b[0m\u001b[1;33m)\u001b[0m\u001b[1;33m\u001b[0m\u001b[1;33m\u001b[0m\u001b[0m\n\u001b[1;32m---> 10\u001b[1;33m \u001b[0mprint\u001b[0m\u001b[1;33m(\u001b[0m\u001b[1;34mf\"all summation of صلى is = {collections_of_word_normalized['صلى'] }\"\u001b[0m\u001b[1;33m)\u001b[0m\u001b[1;33m\u001b[0m\u001b[1;33m\u001b[0m\u001b[0m\n\u001b[0m\u001b[0;32m     11\u001b[0m \u001b[0mprint\u001b[0m\u001b[1;33m(\u001b[0m\u001b[1;34mf\"all summation of النبى is = {collections_of_word_normalized['النبى'] }\"\u001b[0m\u001b[1;33m)\u001b[0m\u001b[1;33m\u001b[0m\u001b[1;33m\u001b[0m\u001b[0m\n",
      "\u001b[1;31mKeyError\u001b[0m: 'صلى'"
     ]
    }
   ],
   "source": [
    "all_hadith_split_words_normalized = []\n",
    "for each_h in all_hadith_with_normalization:\n",
    "    for each_w in each_h.split():\n",
    "        all_hadith_split_words_normalized.append(each_w)\n",
    "        \n",
    "temp = collections.Counter(all_hadith_split_words_normalized)\n",
    "collections_of_word_normalized = dict(sorted(temp.items(), key=lambda item: item[1], reverse= True))\n",
    "\n",
    "print(\"\\t***The Same Length Here***\\t\")\n",
    "print(f\"all summation of صلى is = {collections_of_word_normalized['صلى'] }\")\n",
    "print(f\"all summation of النبى is = {collections_of_word_normalized['النبى'] }\")"
   ]
  },
  {
   "cell_type": "code",
   "execution_count": null,
   "metadata": {},
   "outputs": [],
   "source": []
  }
 ],
 "metadata": {
  "interpreter": {
   "hash": "e815cfa55e4aff3d1ecc578d3b7dfdfb055af6f1f1c440ab5a4244b3f472a1e1"
  },
  "kernelspec": {
   "display_name": "Python 3",
   "language": "python",
   "name": "python3"
  },
  "language_info": {
   "codemirror_mode": {
    "name": "ipython",
    "version": 3
   },
   "file_extension": ".py",
   "mimetype": "text/x-python",
   "name": "python",
   "nbconvert_exporter": "python",
   "pygments_lexer": "ipython3",
   "version": "3.8.8"
  }
 },
 "nbformat": 4,
 "nbformat_minor": 2
}
